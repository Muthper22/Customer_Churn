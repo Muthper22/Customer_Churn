{
 "cells": [
  {
   "cell_type": "markdown",
   "metadata": {},
   "source": [
    "## Customer Churn - Supervised ML models - Logistic regression, Random forrest and Decision Tree"
   ]
  },
  {
   "cell_type": "markdown",
   "metadata": {},
   "source": [
    "### IMPORTING LIBRARIES"
   ]
  },
  {
   "cell_type": "code",
   "execution_count": 2,
   "metadata": {},
   "outputs": [],
   "source": [
    "import numpy as np\n",
    "import pandas as pd \n",
    "import matplotlib.pyplot as plt \n",
    "import seaborn as sns\n",
    "import warnings\n",
    "from sklearn import preprocessing\n",
    "warnings.filterwarnings(\"ignore\")\n",
    "from pylab import rcParams"
   ]
  },
  {
   "cell_type": "markdown",
   "metadata": {},
   "source": [
    "### Load CSV"
   ]
  },
  {
   "cell_type": "code",
   "execution_count": 3,
   "metadata": {},
   "outputs": [],
   "source": [
    "df= pd.read_csv('C:\\\\Users\\\\Karthik\\\\Documents\\\\Muthperkalai\\\\CustomerChurn\\\\WA_Fn-UseC_-Telco-Customer-Churn.csv')"
   ]
  },
  {
   "cell_type": "markdown",
   "metadata": {},
   "source": [
    "### Exploring and feature selection"
   ]
  },
  {
   "cell_type": "markdown",
   "metadata": {},
   "source": [
    "##### General overview of the dataset"
   ]
  },
  {
   "cell_type": "code",
   "execution_count": 4,
   "metadata": {},
   "outputs": [
    {
     "data": {
      "text/html": [
       "<div>\n",
       "<style scoped>\n",
       "    .dataframe tbody tr th:only-of-type {\n",
       "        vertical-align: middle;\n",
       "    }\n",
       "\n",
       "    .dataframe tbody tr th {\n",
       "        vertical-align: top;\n",
       "    }\n",
       "\n",
       "    .dataframe thead th {\n",
       "        text-align: right;\n",
       "    }\n",
       "</style>\n",
       "<table border=\"1\" class=\"dataframe\">\n",
       "  <thead>\n",
       "    <tr style=\"text-align: right;\">\n",
       "      <th></th>\n",
       "      <th>customerID</th>\n",
       "      <th>gender</th>\n",
       "      <th>SeniorCitizen</th>\n",
       "      <th>Partner</th>\n",
       "      <th>Dependents</th>\n",
       "      <th>tenure</th>\n",
       "      <th>PhoneService</th>\n",
       "      <th>MultipleLines</th>\n",
       "      <th>InternetService</th>\n",
       "      <th>OnlineSecurity</th>\n",
       "      <th>...</th>\n",
       "      <th>DeviceProtection</th>\n",
       "      <th>TechSupport</th>\n",
       "      <th>StreamingTV</th>\n",
       "      <th>StreamingMovies</th>\n",
       "      <th>Contract</th>\n",
       "      <th>PaperlessBilling</th>\n",
       "      <th>PaymentMethod</th>\n",
       "      <th>MonthlyCharges</th>\n",
       "      <th>TotalCharges</th>\n",
       "      <th>Churn</th>\n",
       "    </tr>\n",
       "  </thead>\n",
       "  <tbody>\n",
       "    <tr>\n",
       "      <th>0</th>\n",
       "      <td>7590-VHVEG</td>\n",
       "      <td>Female</td>\n",
       "      <td>0</td>\n",
       "      <td>Yes</td>\n",
       "      <td>No</td>\n",
       "      <td>1</td>\n",
       "      <td>No</td>\n",
       "      <td>No phone service</td>\n",
       "      <td>DSL</td>\n",
       "      <td>No</td>\n",
       "      <td>...</td>\n",
       "      <td>No</td>\n",
       "      <td>No</td>\n",
       "      <td>No</td>\n",
       "      <td>No</td>\n",
       "      <td>Month-to-month</td>\n",
       "      <td>Yes</td>\n",
       "      <td>Electronic check</td>\n",
       "      <td>29.85</td>\n",
       "      <td>29.85</td>\n",
       "      <td>No</td>\n",
       "    </tr>\n",
       "    <tr>\n",
       "      <th>1</th>\n",
       "      <td>5575-GNVDE</td>\n",
       "      <td>Male</td>\n",
       "      <td>0</td>\n",
       "      <td>No</td>\n",
       "      <td>No</td>\n",
       "      <td>34</td>\n",
       "      <td>Yes</td>\n",
       "      <td>No</td>\n",
       "      <td>DSL</td>\n",
       "      <td>Yes</td>\n",
       "      <td>...</td>\n",
       "      <td>Yes</td>\n",
       "      <td>No</td>\n",
       "      <td>No</td>\n",
       "      <td>No</td>\n",
       "      <td>One year</td>\n",
       "      <td>No</td>\n",
       "      <td>Mailed check</td>\n",
       "      <td>56.95</td>\n",
       "      <td>1889.5</td>\n",
       "      <td>No</td>\n",
       "    </tr>\n",
       "    <tr>\n",
       "      <th>2</th>\n",
       "      <td>3668-QPYBK</td>\n",
       "      <td>Male</td>\n",
       "      <td>0</td>\n",
       "      <td>No</td>\n",
       "      <td>No</td>\n",
       "      <td>2</td>\n",
       "      <td>Yes</td>\n",
       "      <td>No</td>\n",
       "      <td>DSL</td>\n",
       "      <td>Yes</td>\n",
       "      <td>...</td>\n",
       "      <td>No</td>\n",
       "      <td>No</td>\n",
       "      <td>No</td>\n",
       "      <td>No</td>\n",
       "      <td>Month-to-month</td>\n",
       "      <td>Yes</td>\n",
       "      <td>Mailed check</td>\n",
       "      <td>53.85</td>\n",
       "      <td>108.15</td>\n",
       "      <td>Yes</td>\n",
       "    </tr>\n",
       "    <tr>\n",
       "      <th>3</th>\n",
       "      <td>7795-CFOCW</td>\n",
       "      <td>Male</td>\n",
       "      <td>0</td>\n",
       "      <td>No</td>\n",
       "      <td>No</td>\n",
       "      <td>45</td>\n",
       "      <td>No</td>\n",
       "      <td>No phone service</td>\n",
       "      <td>DSL</td>\n",
       "      <td>Yes</td>\n",
       "      <td>...</td>\n",
       "      <td>Yes</td>\n",
       "      <td>Yes</td>\n",
       "      <td>No</td>\n",
       "      <td>No</td>\n",
       "      <td>One year</td>\n",
       "      <td>No</td>\n",
       "      <td>Bank transfer (automatic)</td>\n",
       "      <td>42.30</td>\n",
       "      <td>1840.75</td>\n",
       "      <td>No</td>\n",
       "    </tr>\n",
       "    <tr>\n",
       "      <th>4</th>\n",
       "      <td>9237-HQITU</td>\n",
       "      <td>Female</td>\n",
       "      <td>0</td>\n",
       "      <td>No</td>\n",
       "      <td>No</td>\n",
       "      <td>2</td>\n",
       "      <td>Yes</td>\n",
       "      <td>No</td>\n",
       "      <td>Fiber optic</td>\n",
       "      <td>No</td>\n",
       "      <td>...</td>\n",
       "      <td>No</td>\n",
       "      <td>No</td>\n",
       "      <td>No</td>\n",
       "      <td>No</td>\n",
       "      <td>Month-to-month</td>\n",
       "      <td>Yes</td>\n",
       "      <td>Electronic check</td>\n",
       "      <td>70.70</td>\n",
       "      <td>151.65</td>\n",
       "      <td>Yes</td>\n",
       "    </tr>\n",
       "  </tbody>\n",
       "</table>\n",
       "<p>5 rows × 21 columns</p>\n",
       "</div>"
      ],
      "text/plain": [
       "   customerID  gender  SeniorCitizen Partner Dependents  tenure PhoneService  \\\n",
       "0  7590-VHVEG  Female              0     Yes         No       1           No   \n",
       "1  5575-GNVDE    Male              0      No         No      34          Yes   \n",
       "2  3668-QPYBK    Male              0      No         No       2          Yes   \n",
       "3  7795-CFOCW    Male              0      No         No      45           No   \n",
       "4  9237-HQITU  Female              0      No         No       2          Yes   \n",
       "\n",
       "      MultipleLines InternetService OnlineSecurity  ... DeviceProtection  \\\n",
       "0  No phone service             DSL             No  ...               No   \n",
       "1                No             DSL            Yes  ...              Yes   \n",
       "2                No             DSL            Yes  ...               No   \n",
       "3  No phone service             DSL            Yes  ...              Yes   \n",
       "4                No     Fiber optic             No  ...               No   \n",
       "\n",
       "  TechSupport StreamingTV StreamingMovies        Contract PaperlessBilling  \\\n",
       "0          No          No              No  Month-to-month              Yes   \n",
       "1          No          No              No        One year               No   \n",
       "2          No          No              No  Month-to-month              Yes   \n",
       "3         Yes          No              No        One year               No   \n",
       "4          No          No              No  Month-to-month              Yes   \n",
       "\n",
       "               PaymentMethod MonthlyCharges  TotalCharges Churn  \n",
       "0           Electronic check          29.85         29.85    No  \n",
       "1               Mailed check          56.95        1889.5    No  \n",
       "2               Mailed check          53.85        108.15   Yes  \n",
       "3  Bank transfer (automatic)          42.30       1840.75    No  \n",
       "4           Electronic check          70.70        151.65   Yes  \n",
       "\n",
       "[5 rows x 21 columns]"
      ]
     },
     "execution_count": 4,
     "metadata": {},
     "output_type": "execute_result"
    }
   ],
   "source": [
    "df.head(5)"
   ]
  },
  {
   "cell_type": "code",
   "execution_count": 5,
   "metadata": {},
   "outputs": [
    {
     "data": {
      "text/plain": [
       "(7043, 21)"
      ]
     },
     "execution_count": 5,
     "metadata": {},
     "output_type": "execute_result"
    }
   ],
   "source": [
    "df.shape"
   ]
  },
  {
   "cell_type": "markdown",
   "metadata": {},
   "source": [
    "the data has 7043 rows and 21 columns"
   ]
  },
  {
   "cell_type": "code",
   "execution_count": 6,
   "metadata": {},
   "outputs": [
    {
     "data": {
      "text/plain": [
       "customerID           object\n",
       "gender               object\n",
       "SeniorCitizen         int64\n",
       "Partner              object\n",
       "Dependents           object\n",
       "tenure                int64\n",
       "PhoneService         object\n",
       "MultipleLines        object\n",
       "InternetService      object\n",
       "OnlineSecurity       object\n",
       "OnlineBackup         object\n",
       "DeviceProtection     object\n",
       "TechSupport          object\n",
       "StreamingTV          object\n",
       "StreamingMovies      object\n",
       "Contract             object\n",
       "PaperlessBilling     object\n",
       "PaymentMethod        object\n",
       "MonthlyCharges      float64\n",
       "TotalCharges         object\n",
       "Churn                object\n",
       "dtype: object"
      ]
     },
     "execution_count": 6,
     "metadata": {},
     "output_type": "execute_result"
    }
   ],
   "source": [
    "df.dtypes"
   ]
  },
  {
   "cell_type": "markdown",
   "metadata": {},
   "source": [
    "Our target feature in this problem is Churn. So its important that we know the proportion of churn in our provided dataset to make sure that our training dataset also has the same proportion"
   ]
  },
  {
   "cell_type": "code",
   "execution_count": 7,
   "metadata": {},
   "outputs": [
    {
     "name": "stdout",
     "output_type": "stream",
     "text": [
      "No     5174\n",
      "Yes    1869\n",
      "Name: Churn, dtype: int64\n"
     ]
    }
   ],
   "source": [
    "Churn_ratio = df['Churn'].value_counts(sort = True)\n",
    "print(Churn_ratio)"
   ]
  },
  {
   "cell_type": "markdown",
   "metadata": {},
   "source": [
    "lets visualize"
   ]
  },
  {
   "cell_type": "code",
   "execution_count": 8,
   "metadata": {},
   "outputs": [
    {
     "data": {
      "image/png": "[encoded data removed]",
      "text/plain": [
       "<Figure size 360x360 with 1 Axes>"
      ]
     },
     "metadata": {},
     "output_type": "display_data"
    }
   ],
   "source": [
    "# Data to plot\n",
    "Churn_ratio = df['Churn'].value_counts(sort = True)\n",
    "labels = \"No\", \"Yes\"\n",
    "colors = [\"lightgreen\",\"red\"] \n",
    "rcParams['figure.figsize'] = 5,5\n",
    "# Plot\n",
    "plt.pie(Churn_ratio, explode=None, labels=labels, colors=colors,\n",
    "        autopct='%1.1f%%', shadow=True, startangle=270,)\n",
    "plt.title('Percentage of Churn in Dataset')\n",
    "plt.show()\n"
   ]
  },
  {
   "cell_type": "markdown",
   "metadata": {},
   "source": [
    "### Data Preparation and Feature Engineering"
   ]
  },
  {
   "cell_type": "markdown",
   "metadata": {},
   "source": [
    "Better we prepare our data for the machine learning model, the better our prediction will be. If our data is not good then even the results of the most complex ML models as well wont be good"
   ]
  },
  {
   "cell_type": "markdown",
   "metadata": {},
   "source": [
    "1. Dropping irrelevant data"
   ]
  },
  {
   "cell_type": "markdown",
   "metadata": {},
   "source": [
    "There may be data included that is not needed to improve our results.  CustomerID is one such field that does not influence our predicted outcome, so we drop this column"
   ]
  },
  {
   "cell_type": "code",
   "execution_count": 9,
   "metadata": {},
   "outputs": [],
   "source": [
    "df1=df.drop(['customerID'], axis=1)"
   ]
  },
  {
   "cell_type": "code",
   "execution_count": 10,
   "metadata": {},
   "outputs": [
    {
     "data": {
      "text/html": [
       "<div>\n",
       "<style scoped>\n",
       "    .dataframe tbody tr th:only-of-type {\n",
       "        vertical-align: middle;\n",
       "    }\n",
       "\n",
       "    .dataframe tbody tr th {\n",
       "        vertical-align: top;\n",
       "    }\n",
       "\n",
       "    .dataframe thead th {\n",
       "        text-align: right;\n",
       "    }\n",
       "</style>\n",
       "<table border=\"1\" class=\"dataframe\">\n",
       "  <thead>\n",
       "    <tr style=\"text-align: right;\">\n",
       "      <th></th>\n",
       "      <th>gender</th>\n",
       "      <th>SeniorCitizen</th>\n",
       "      <th>Partner</th>\n",
       "      <th>Dependents</th>\n",
       "      <th>tenure</th>\n",
       "      <th>PhoneService</th>\n",
       "      <th>MultipleLines</th>\n",
       "      <th>InternetService</th>\n",
       "      <th>OnlineSecurity</th>\n",
       "      <th>OnlineBackup</th>\n",
       "      <th>DeviceProtection</th>\n",
       "      <th>TechSupport</th>\n",
       "      <th>StreamingTV</th>\n",
       "      <th>StreamingMovies</th>\n",
       "      <th>Contract</th>\n",
       "      <th>PaperlessBilling</th>\n",
       "      <th>PaymentMethod</th>\n",
       "      <th>MonthlyCharges</th>\n",
       "      <th>TotalCharges</th>\n",
       "      <th>Churn</th>\n",
       "    </tr>\n",
       "  </thead>\n",
       "  <tbody>\n",
       "    <tr>\n",
       "      <th>0</th>\n",
       "      <td>Female</td>\n",
       "      <td>0</td>\n",
       "      <td>Yes</td>\n",
       "      <td>No</td>\n",
       "      <td>1</td>\n",
       "      <td>No</td>\n",
       "      <td>No phone service</td>\n",
       "      <td>DSL</td>\n",
       "      <td>No</td>\n",
       "      <td>Yes</td>\n",
       "      <td>No</td>\n",
       "      <td>No</td>\n",
       "      <td>No</td>\n",
       "      <td>No</td>\n",
       "      <td>Month-to-month</td>\n",
       "      <td>Yes</td>\n",
       "      <td>Electronic check</td>\n",
       "      <td>29.85</td>\n",
       "      <td>29.85</td>\n",
       "      <td>No</td>\n",
       "    </tr>\n",
       "    <tr>\n",
       "      <th>1</th>\n",
       "      <td>Male</td>\n",
       "      <td>0</td>\n",
       "      <td>No</td>\n",
       "      <td>No</td>\n",
       "      <td>34</td>\n",
       "      <td>Yes</td>\n",
       "      <td>No</td>\n",
       "      <td>DSL</td>\n",
       "      <td>Yes</td>\n",
       "      <td>No</td>\n",
       "      <td>Yes</td>\n",
       "      <td>No</td>\n",
       "      <td>No</td>\n",
       "      <td>No</td>\n",
       "      <td>One year</td>\n",
       "      <td>No</td>\n",
       "      <td>Mailed check</td>\n",
       "      <td>56.95</td>\n",
       "      <td>1889.5</td>\n",
       "      <td>No</td>\n",
       "    </tr>\n",
       "    <tr>\n",
       "      <th>2</th>\n",
       "      <td>Male</td>\n",
       "      <td>0</td>\n",
       "      <td>No</td>\n",
       "      <td>No</td>\n",
       "      <td>2</td>\n",
       "      <td>Yes</td>\n",
       "      <td>No</td>\n",
       "      <td>DSL</td>\n",
       "      <td>Yes</td>\n",
       "      <td>Yes</td>\n",
       "      <td>No</td>\n",
       "      <td>No</td>\n",
       "      <td>No</td>\n",
       "      <td>No</td>\n",
       "      <td>Month-to-month</td>\n",
       "      <td>Yes</td>\n",
       "      <td>Mailed check</td>\n",
       "      <td>53.85</td>\n",
       "      <td>108.15</td>\n",
       "      <td>Yes</td>\n",
       "    </tr>\n",
       "    <tr>\n",
       "      <th>3</th>\n",
       "      <td>Male</td>\n",
       "      <td>0</td>\n",
       "      <td>No</td>\n",
       "      <td>No</td>\n",
       "      <td>45</td>\n",
       "      <td>No</td>\n",
       "      <td>No phone service</td>\n",
       "      <td>DSL</td>\n",
       "      <td>Yes</td>\n",
       "      <td>No</td>\n",
       "      <td>Yes</td>\n",
       "      <td>Yes</td>\n",
       "      <td>No</td>\n",
       "      <td>No</td>\n",
       "      <td>One year</td>\n",
       "      <td>No</td>\n",
       "      <td>Bank transfer (automatic)</td>\n",
       "      <td>42.30</td>\n",
       "      <td>1840.75</td>\n",
       "      <td>No</td>\n",
       "    </tr>\n",
       "    <tr>\n",
       "      <th>4</th>\n",
       "      <td>Female</td>\n",
       "      <td>0</td>\n",
       "      <td>No</td>\n",
       "      <td>No</td>\n",
       "      <td>2</td>\n",
       "      <td>Yes</td>\n",
       "      <td>No</td>\n",
       "      <td>Fiber optic</td>\n",
       "      <td>No</td>\n",
       "      <td>No</td>\n",
       "      <td>No</td>\n",
       "      <td>No</td>\n",
       "      <td>No</td>\n",
       "      <td>No</td>\n",
       "      <td>Month-to-month</td>\n",
       "      <td>Yes</td>\n",
       "      <td>Electronic check</td>\n",
       "      <td>70.70</td>\n",
       "      <td>151.65</td>\n",
       "      <td>Yes</td>\n",
       "    </tr>\n",
       "  </tbody>\n",
       "</table>\n",
       "</div>"
      ],
      "text/plain": [
       "   gender  SeniorCitizen Partner Dependents  tenure PhoneService  \\\n",
       "0  Female              0     Yes         No       1           No   \n",
       "1    Male              0      No         No      34          Yes   \n",
       "2    Male              0      No         No       2          Yes   \n",
       "3    Male              0      No         No      45           No   \n",
       "4  Female              0      No         No       2          Yes   \n",
       "\n",
       "      MultipleLines InternetService OnlineSecurity OnlineBackup  \\\n",
       "0  No phone service             DSL             No          Yes   \n",
       "1                No             DSL            Yes           No   \n",
       "2                No             DSL            Yes          Yes   \n",
       "3  No phone service             DSL            Yes           No   \n",
       "4                No     Fiber optic             No           No   \n",
       "\n",
       "  DeviceProtection TechSupport StreamingTV StreamingMovies        Contract  \\\n",
       "0               No          No          No              No  Month-to-month   \n",
       "1              Yes          No          No              No        One year   \n",
       "2               No          No          No              No  Month-to-month   \n",
       "3              Yes         Yes          No              No        One year   \n",
       "4               No          No          No              No  Month-to-month   \n",
       "\n",
       "  PaperlessBilling              PaymentMethod  MonthlyCharges TotalCharges  \\\n",
       "0              Yes           Electronic check           29.85        29.85   \n",
       "1               No               Mailed check           56.95       1889.5   \n",
       "2              Yes               Mailed check           53.85       108.15   \n",
       "3               No  Bank transfer (automatic)           42.30      1840.75   \n",
       "4              Yes           Electronic check           70.70       151.65   \n",
       "\n",
       "  Churn  \n",
       "0    No  \n",
       "1    No  \n",
       "2   Yes  \n",
       "3    No  \n",
       "4   Yes  "
      ]
     },
     "execution_count": 10,
     "metadata": {},
     "output_type": "execute_result"
    }
   ],
   "source": [
    "df1.head(5)"
   ]
  },
  {
   "cell_type": "markdown",
   "metadata": {},
   "source": [
    "df1 is the dataframe that we are gonna use."
   ]
  },
  {
   "cell_type": "markdown",
   "metadata": {},
   "source": [
    "2. Missing values"
   ]
  },
  {
   "cell_type": "markdown",
   "metadata": {},
   "source": [
    "Its very important that we handle null values. There are various methods to handle null. If your dataset is really huge and enough data is available for training dataset then you can drop the records. Otherwise you can replace them with Mean, Median or Mode, the central tendency value according to your use case"
   ]
  },
  {
   "cell_type": "markdown",
   "metadata": {},
   "source": [
    "Check for nulls and na s"
   ]
  },
  {
   "cell_type": "code",
   "execution_count": 11,
   "metadata": {},
   "outputs": [
    {
     "data": {
      "text/plain": [
       "gender              0\n",
       "SeniorCitizen       0\n",
       "Partner             0\n",
       "Dependents          0\n",
       "tenure              0\n",
       "PhoneService        0\n",
       "MultipleLines       0\n",
       "InternetService     0\n",
       "OnlineSecurity      0\n",
       "OnlineBackup        0\n",
       "DeviceProtection    0\n",
       "TechSupport         0\n",
       "StreamingTV         0\n",
       "StreamingMovies     0\n",
       "Contract            0\n",
       "PaperlessBilling    0\n",
       "PaymentMethod       0\n",
       "MonthlyCharges      0\n",
       "TotalCharges        0\n",
       "Churn               0\n",
       "dtype: int64"
      ]
     },
     "execution_count": 11,
     "metadata": {},
     "output_type": "execute_result"
    }
   ],
   "source": [
    "df1.isnull().sum()"
   ]
  },
  {
   "cell_type": "code",
   "execution_count": 12,
   "metadata": {},
   "outputs": [
    {
     "data": {
      "text/plain": [
       "gender              0\n",
       "SeniorCitizen       0\n",
       "Partner             0\n",
       "Dependents          0\n",
       "tenure              0\n",
       "PhoneService        0\n",
       "MultipleLines       0\n",
       "InternetService     0\n",
       "OnlineSecurity      0\n",
       "OnlineBackup        0\n",
       "DeviceProtection    0\n",
       "TechSupport         0\n",
       "StreamingTV         0\n",
       "StreamingMovies     0\n",
       "Contract            0\n",
       "PaperlessBilling    0\n",
       "PaymentMethod       0\n",
       "MonthlyCharges      0\n",
       "TotalCharges        0\n",
       "Churn               0\n",
       "dtype: int64"
      ]
     },
     "execution_count": 12,
     "metadata": {},
     "output_type": "execute_result"
    }
   ],
   "source": [
    "df1.isna().sum()"
   ]
  },
  {
   "cell_type": "markdown",
   "metadata": {},
   "source": [
    "Luckily our data has no null values. But this is a very rare situation. In realtime cases we usually encounter null values and we should handle this "
   ]
  },
  {
   "cell_type": "markdown",
   "metadata": {},
   "source": [
    "3. Converting Numerical Features from \"Object\" dataset"
   ]
  },
  {
   "cell_type": "markdown",
   "metadata": {},
   "source": [
    "we see that the datatype of Total Charges is object but it is should be of numeric dtype. So we convert them to numeric, and why this is important? It is because our ML models can only work with numeric data"
   ]
  },
  {
   "cell_type": "code",
   "execution_count": 13,
   "metadata": {},
   "outputs": [],
   "source": [
    "df1['TotalCharges'] = pd.to_numeric(df1['TotalCharges'],errors='coerce')"
   ]
  },
  {
   "cell_type": "code",
   "execution_count": 14,
   "metadata": {},
   "outputs": [
    {
     "name": "stdout",
     "output_type": "stream",
     "text": [
      "11\n"
     ]
    }
   ],
   "source": [
    "print(pd.to_numeric(df1['TotalCharges'],errors='coerce').isnull().sum())"
   ]
  },
  {
   "cell_type": "markdown",
   "metadata": {},
   "source": [
    "identifying which records was creating error and got replaced with 'NaN'"
   ]
  },
  {
   "cell_type": "code",
   "execution_count": 15,
   "metadata": {},
   "outputs": [
    {
     "name": "stdout",
     "output_type": "stream",
     "text": [
      "      gender  SeniorCitizen Partner Dependents  tenure PhoneService  \\\n",
      "488   Female              0     Yes        Yes       0           No   \n",
      "753     Male              0      No        Yes       0          Yes   \n",
      "936   Female              0     Yes        Yes       0          Yes   \n",
      "1082    Male              0     Yes        Yes       0          Yes   \n",
      "1340  Female              0     Yes        Yes       0           No   \n",
      "3331    Male              0     Yes        Yes       0          Yes   \n",
      "3826    Male              0     Yes        Yes       0          Yes   \n",
      "4380  Female              0     Yes        Yes       0          Yes   \n",
      "5218    Male              0     Yes        Yes       0          Yes   \n",
      "6670  Female              0     Yes        Yes       0          Yes   \n",
      "6754    Male              0      No        Yes       0          Yes   \n",
      "\n",
      "         MultipleLines InternetService       OnlineSecurity  \\\n",
      "488   No phone service             DSL                  Yes   \n",
      "753                 No              No  No internet service   \n",
      "936                 No             DSL                  Yes   \n",
      "1082               Yes              No  No internet service   \n",
      "1340  No phone service             DSL                  Yes   \n",
      "3331                No              No  No internet service   \n",
      "3826               Yes              No  No internet service   \n",
      "4380                No              No  No internet service   \n",
      "5218                No              No  No internet service   \n",
      "6670               Yes             DSL                   No   \n",
      "6754               Yes             DSL                  Yes   \n",
      "\n",
      "             OnlineBackup     DeviceProtection          TechSupport  \\\n",
      "488                    No                  Yes                  Yes   \n",
      "753   No internet service  No internet service  No internet service   \n",
      "936                   Yes                  Yes                   No   \n",
      "1082  No internet service  No internet service  No internet service   \n",
      "1340                  Yes                  Yes                  Yes   \n",
      "3331  No internet service  No internet service  No internet service   \n",
      "3826  No internet service  No internet service  No internet service   \n",
      "4380  No internet service  No internet service  No internet service   \n",
      "5218  No internet service  No internet service  No internet service   \n",
      "6670                  Yes                  Yes                  Yes   \n",
      "6754                  Yes                   No                  Yes   \n",
      "\n",
      "              StreamingTV      StreamingMovies  Contract PaperlessBilling  \\\n",
      "488                   Yes                   No  Two year              Yes   \n",
      "753   No internet service  No internet service  Two year               No   \n",
      "936                   Yes                  Yes  Two year               No   \n",
      "1082  No internet service  No internet service  Two year               No   \n",
      "1340                  Yes                   No  Two year               No   \n",
      "3331  No internet service  No internet service  Two year               No   \n",
      "3826  No internet service  No internet service  Two year               No   \n",
      "4380  No internet service  No internet service  Two year               No   \n",
      "5218  No internet service  No internet service  One year              Yes   \n",
      "6670                  Yes                   No  Two year               No   \n",
      "6754                   No                   No  Two year              Yes   \n",
      "\n",
      "                  PaymentMethod  MonthlyCharges  TotalCharges Churn  \n",
      "488   Bank transfer (automatic)           52.55           NaN    No  \n",
      "753                Mailed check           20.25           NaN    No  \n",
      "936                Mailed check           80.85           NaN    No  \n",
      "1082               Mailed check           25.75           NaN    No  \n",
      "1340    Credit card (automatic)           56.05           NaN    No  \n",
      "3331               Mailed check           19.85           NaN    No  \n",
      "3826               Mailed check           25.35           NaN    No  \n",
      "4380               Mailed check           20.00           NaN    No  \n",
      "5218               Mailed check           19.70           NaN    No  \n",
      "6670               Mailed check           73.35           NaN    No  \n",
      "6754  Bank transfer (automatic)           61.90           NaN    No  \n"
     ]
    }
   ],
   "source": [
    "IS_NULL=df1.isnull()\n",
    "row_has_NaN = IS_NULL.any(axis=1)\n",
    "rows_with_NaN = df1[row_has_NaN]\n",
    "print(rows_with_NaN)"
   ]
  },
  {
   "cell_type": "markdown",
   "metadata": {},
   "source": [
    "droping the records that has NaN values. We can replace them with Mean, or Median. But its just 11 out of 7043 avail records. So dropping 11 records and this is not going to affect much."
   ]
  },
  {
   "cell_type": "code",
   "execution_count": 16,
   "metadata": {},
   "outputs": [],
   "source": [
    "df1.dropna(subset = [\"TotalCharges\"], inplace=True)"
   ]
  },
  {
   "cell_type": "code",
   "execution_count": 17,
   "metadata": {},
   "outputs": [
    {
     "data": {
      "text/plain": [
       "gender              0\n",
       "SeniorCitizen       0\n",
       "Partner             0\n",
       "Dependents          0\n",
       "tenure              0\n",
       "PhoneService        0\n",
       "MultipleLines       0\n",
       "InternetService     0\n",
       "OnlineSecurity      0\n",
       "OnlineBackup        0\n",
       "DeviceProtection    0\n",
       "TechSupport         0\n",
       "StreamingTV         0\n",
       "StreamingMovies     0\n",
       "Contract            0\n",
       "PaperlessBilling    0\n",
       "PaymentMethod       0\n",
       "MonthlyCharges      0\n",
       "TotalCharges        0\n",
       "Churn               0\n",
       "dtype: int64"
      ]
     },
     "execution_count": 17,
     "metadata": {},
     "output_type": "execute_result"
    }
   ],
   "source": [
    "#Cross checking if the na values are dropped\n",
    "df1.isnull().sum()"
   ]
  },
  {
   "cell_type": "code",
   "execution_count": 18,
   "metadata": {},
   "outputs": [
    {
     "data": {
      "text/plain": [
       "(7032, 20)"
      ]
     },
     "execution_count": 18,
     "metadata": {},
     "output_type": "execute_result"
    }
   ],
   "source": [
    "df1.shape"
   ]
  },
  {
   "cell_type": "markdown",
   "metadata": {},
   "source": [
    "Now we have 7031 records and 20 columns after dropping customerID column and records that has na s in TotalCharges Column"
   ]
  },
  {
   "cell_type": "markdown",
   "metadata": {},
   "source": [
    "### 4. Categorical data into numerical data"
   ]
  },
  {
   "cell_type": "markdown",
   "metadata": {},
   "source": [
    "Models works only with numerical data, so we should convert our categorical data into numerical. We can go with get_dummies() or preprocessing. Here we are gonna try preprocessing"
   ]
  },
  {
   "cell_type": "code",
   "execution_count": 19,
   "metadata": {},
   "outputs": [
    {
     "data": {
      "text/plain": [
       "gender               object\n",
       "SeniorCitizen         int64\n",
       "Partner              object\n",
       "Dependents           object\n",
       "tenure                int64\n",
       "PhoneService         object\n",
       "MultipleLines        object\n",
       "InternetService      object\n",
       "OnlineSecurity       object\n",
       "OnlineBackup         object\n",
       "DeviceProtection     object\n",
       "TechSupport          object\n",
       "StreamingTV          object\n",
       "StreamingMovies      object\n",
       "Contract             object\n",
       "PaperlessBilling     object\n",
       "PaymentMethod        object\n",
       "MonthlyCharges      float64\n",
       "TotalCharges        float64\n",
       "Churn                object\n",
       "dtype: object"
      ]
     },
     "execution_count": 19,
     "metadata": {},
     "output_type": "execute_result"
    }
   ],
   "source": [
    "df1.dtypes"
   ]
  },
  {
   "cell_type": "code",
   "execution_count": 20,
   "metadata": {},
   "outputs": [],
   "source": [
    "#creating instance \n",
    "gender = preprocessing.LabelEncoder()\n",
    "#fitting the data\n",
    "gender.fit([\"Female\", \"Male\"])\n",
    "#transforming the data\n",
    "df1['gender']=gender.transform(df1['gender'])"
   ]
  },
  {
   "cell_type": "code",
   "execution_count": 21,
   "metadata": {},
   "outputs": [],
   "source": [
    "Partner=preprocessing.LabelEncoder()\n",
    "Partner.fit(df1['Partner'])\n",
    "#transforming the data\n",
    "df1['Partner']=Partner.transform(df1['Partner'])"
   ]
  },
  {
   "cell_type": "code",
   "execution_count": 22,
   "metadata": {},
   "outputs": [],
   "source": [
    "Dependents=preprocessing.LabelEncoder()\n",
    "Dependents.fit(df1['Dependents'])\n",
    "#transforming the data\n",
    "df1['Dependents']=Dependents.transform(df1['Dependents'])"
   ]
  },
  {
   "cell_type": "code",
   "execution_count": 23,
   "metadata": {},
   "outputs": [],
   "source": [
    "DeviceProtection=preprocessing.LabelEncoder()\n",
    "DeviceProtection.fit(df1['DeviceProtection'])\n",
    "#transforming the data\n",
    "df1['DeviceProtection']=DeviceProtection.transform(df1['DeviceProtection'])"
   ]
  },
  {
   "cell_type": "code",
   "execution_count": 24,
   "metadata": {},
   "outputs": [],
   "source": [
    "PhoneService=preprocessing.LabelEncoder()\n",
    "PhoneService.fit(df1['PhoneService'])\n",
    "#transforming the data\n",
    "df1['PhoneService']=PhoneService.transform(df1['PhoneService'])"
   ]
  },
  {
   "cell_type": "code",
   "execution_count": 25,
   "metadata": {},
   "outputs": [],
   "source": [
    "MultipleLines=preprocessing.LabelEncoder()\n",
    "MultipleLines.fit(df1['MultipleLines'])\n",
    "#transforming the data\n",
    "df1['MultipleLines']=MultipleLines.transform(df1['MultipleLines'])"
   ]
  },
  {
   "cell_type": "code",
   "execution_count": 26,
   "metadata": {},
   "outputs": [],
   "source": [
    "InternetService=preprocessing.LabelEncoder()\n",
    "InternetService.fit(df1['InternetService'])\n",
    "InternetService.classes_\n",
    "#transforming the data\n",
    "df1['InternetService']=InternetService.transform(df1['InternetService'])"
   ]
  },
  {
   "cell_type": "code",
   "execution_count": 27,
   "metadata": {},
   "outputs": [],
   "source": [
    "OnlineSecurity=preprocessing.LabelEncoder()\n",
    "OnlineSecurity.fit(df1['OnlineSecurity'])\n",
    "OnlineSecurity.classes_\n",
    "#transforming the data\n",
    "df1['OnlineSecurity']=OnlineSecurity.transform(df1['OnlineSecurity'])"
   ]
  },
  {
   "cell_type": "code",
   "execution_count": 31,
   "metadata": {},
   "outputs": [],
   "source": [
    "OnlineBackup=preprocessing.LabelEncoder()\n",
    "OnlineBackup.fit(df1['OnlineBackup'])\n",
    "#transforming the data\n",
    "df1['OnlineBackup']=OnlineBackup.transform(df1['OnlineBackup'])"
   ]
  },
  {
   "cell_type": "code",
   "execution_count": 32,
   "metadata": {},
   "outputs": [],
   "source": [
    "TechSupport=preprocessing.LabelEncoder()\n",
    "TechSupport.fit(df1['TechSupport'])\n",
    "#transforming the data\n",
    "df1['TechSupport']=TechSupport.transform(df1['TechSupport'])"
   ]
  },
  {
   "cell_type": "code",
   "execution_count": 33,
   "metadata": {},
   "outputs": [],
   "source": [
    "StreamingTV=preprocessing.LabelEncoder()\n",
    "StreamingTV.fit(df1['StreamingTV'])\n",
    "#transforming the data\n",
    "df1['StreamingTV']=StreamingTV.transform(df1['StreamingTV'])"
   ]
  },
  {
   "cell_type": "code",
   "execution_count": 34,
   "metadata": {},
   "outputs": [],
   "source": [
    "StreamingMovies=preprocessing.LabelEncoder()\n",
    "StreamingMovies.fit(df1['StreamingMovies'])\n",
    "#transforming the data\n",
    "df1['StreamingMovies']=StreamingMovies.transform(df1['StreamingMovies'])"
   ]
  },
  {
   "cell_type": "code",
   "execution_count": 35,
   "metadata": {},
   "outputs": [],
   "source": [
    "Contract=preprocessing.LabelEncoder()\n",
    "Contract.fit(df1['Contract'])\n",
    "Contract.classes_\n",
    "#transforming the data\n",
    "df1['Contract']=Contract.transform(df1['Contract'])"
   ]
  },
  {
   "cell_type": "code",
   "execution_count": 36,
   "metadata": {},
   "outputs": [],
   "source": [
    "PaperlessBilling=preprocessing.LabelEncoder()\n",
    "PaperlessBilling.fit(df1['PaperlessBilling'])\n",
    "#transforming the data\n",
    "df1['PaperlessBilling']=PaperlessBilling.transform(df1['PaperlessBilling'])"
   ]
  },
  {
   "cell_type": "code",
   "execution_count": 37,
   "metadata": {},
   "outputs": [],
   "source": [
    "PaymentMethod=preprocessing.LabelEncoder()\n",
    "PaymentMethod.fit(df1['PaymentMethod'])\n",
    "#transforming the data\n",
    "df1['PaymentMethod']=PaymentMethod.transform(df1['PaymentMethod'])"
   ]
  },
  {
   "cell_type": "code",
   "execution_count": 38,
   "metadata": {},
   "outputs": [],
   "source": [
    "Churn=preprocessing.LabelEncoder()\n",
    "Churn.fit(df1['Churn'])\n",
    "#transforming the data\n",
    "df1['Churn']=Churn.transform(df1['Churn'])"
   ]
  },
  {
   "cell_type": "code",
   "execution_count": 39,
   "metadata": {},
   "outputs": [
    {
     "data": {
      "text/html": [
       "<div>\n",
       "<style scoped>\n",
       "    .dataframe tbody tr th:only-of-type {\n",
       "        vertical-align: middle;\n",
       "    }\n",
       "\n",
       "    .dataframe tbody tr th {\n",
       "        vertical-align: top;\n",
       "    }\n",
       "\n",
       "    .dataframe thead th {\n",
       "        text-align: right;\n",
       "    }\n",
       "</style>\n",
       "<table border=\"1\" class=\"dataframe\">\n",
       "  <thead>\n",
       "    <tr style=\"text-align: right;\">\n",
       "      <th></th>\n",
       "      <th>gender</th>\n",
       "      <th>SeniorCitizen</th>\n",
       "      <th>Partner</th>\n",
       "      <th>Dependents</th>\n",
       "      <th>tenure</th>\n",
       "      <th>PhoneService</th>\n",
       "      <th>MultipleLines</th>\n",
       "      <th>InternetService</th>\n",
       "      <th>OnlineSecurity</th>\n",
       "      <th>OnlineBackup</th>\n",
       "      <th>DeviceProtection</th>\n",
       "      <th>TechSupport</th>\n",
       "      <th>StreamingTV</th>\n",
       "      <th>StreamingMovies</th>\n",
       "      <th>Contract</th>\n",
       "      <th>PaperlessBilling</th>\n",
       "      <th>PaymentMethod</th>\n",
       "      <th>MonthlyCharges</th>\n",
       "      <th>TotalCharges</th>\n",
       "      <th>Churn</th>\n",
       "    </tr>\n",
       "  </thead>\n",
       "  <tbody>\n",
       "    <tr>\n",
       "      <th>0</th>\n",
       "      <td>0</td>\n",
       "      <td>0</td>\n",
       "      <td>1</td>\n",
       "      <td>0</td>\n",
       "      <td>1</td>\n",
       "      <td>0</td>\n",
       "      <td>1</td>\n",
       "      <td>0</td>\n",
       "      <td>0</td>\n",
       "      <td>2</td>\n",
       "      <td>0</td>\n",
       "      <td>0</td>\n",
       "      <td>0</td>\n",
       "      <td>0</td>\n",
       "      <td>0</td>\n",
       "      <td>1</td>\n",
       "      <td>2</td>\n",
       "      <td>29.85</td>\n",
       "      <td>29.85</td>\n",
       "      <td>0</td>\n",
       "    </tr>\n",
       "    <tr>\n",
       "      <th>1</th>\n",
       "      <td>1</td>\n",
       "      <td>0</td>\n",
       "      <td>0</td>\n",
       "      <td>0</td>\n",
       "      <td>34</td>\n",
       "      <td>1</td>\n",
       "      <td>0</td>\n",
       "      <td>0</td>\n",
       "      <td>2</td>\n",
       "      <td>0</td>\n",
       "      <td>2</td>\n",
       "      <td>0</td>\n",
       "      <td>0</td>\n",
       "      <td>0</td>\n",
       "      <td>1</td>\n",
       "      <td>0</td>\n",
       "      <td>3</td>\n",
       "      <td>56.95</td>\n",
       "      <td>1889.50</td>\n",
       "      <td>0</td>\n",
       "    </tr>\n",
       "    <tr>\n",
       "      <th>2</th>\n",
       "      <td>1</td>\n",
       "      <td>0</td>\n",
       "      <td>0</td>\n",
       "      <td>0</td>\n",
       "      <td>2</td>\n",
       "      <td>1</td>\n",
       "      <td>0</td>\n",
       "      <td>0</td>\n",
       "      <td>2</td>\n",
       "      <td>2</td>\n",
       "      <td>0</td>\n",
       "      <td>0</td>\n",
       "      <td>0</td>\n",
       "      <td>0</td>\n",
       "      <td>0</td>\n",
       "      <td>1</td>\n",
       "      <td>3</td>\n",
       "      <td>53.85</td>\n",
       "      <td>108.15</td>\n",
       "      <td>1</td>\n",
       "    </tr>\n",
       "    <tr>\n",
       "      <th>3</th>\n",
       "      <td>1</td>\n",
       "      <td>0</td>\n",
       "      <td>0</td>\n",
       "      <td>0</td>\n",
       "      <td>45</td>\n",
       "      <td>0</td>\n",
       "      <td>1</td>\n",
       "      <td>0</td>\n",
       "      <td>2</td>\n",
       "      <td>0</td>\n",
       "      <td>2</td>\n",
       "      <td>2</td>\n",
       "      <td>0</td>\n",
       "      <td>0</td>\n",
       "      <td>1</td>\n",
       "      <td>0</td>\n",
       "      <td>0</td>\n",
       "      <td>42.30</td>\n",
       "      <td>1840.75</td>\n",
       "      <td>0</td>\n",
       "    </tr>\n",
       "    <tr>\n",
       "      <th>4</th>\n",
       "      <td>0</td>\n",
       "      <td>0</td>\n",
       "      <td>0</td>\n",
       "      <td>0</td>\n",
       "      <td>2</td>\n",
       "      <td>1</td>\n",
       "      <td>0</td>\n",
       "      <td>1</td>\n",
       "      <td>0</td>\n",
       "      <td>0</td>\n",
       "      <td>0</td>\n",
       "      <td>0</td>\n",
       "      <td>0</td>\n",
       "      <td>0</td>\n",
       "      <td>0</td>\n",
       "      <td>1</td>\n",
       "      <td>2</td>\n",
       "      <td>70.70</td>\n",
       "      <td>151.65</td>\n",
       "      <td>1</td>\n",
       "    </tr>\n",
       "  </tbody>\n",
       "</table>\n",
       "</div>"
      ],
      "text/plain": [
       "   gender  SeniorCitizen  Partner  Dependents  tenure  PhoneService  \\\n",
       "0       0              0        1           0       1             0   \n",
       "1       1              0        0           0      34             1   \n",
       "2       1              0        0           0       2             1   \n",
       "3       1              0        0           0      45             0   \n",
       "4       0              0        0           0       2             1   \n",
       "\n",
       "   MultipleLines  InternetService  OnlineSecurity  OnlineBackup  \\\n",
       "0              1                0               0             2   \n",
       "1              0                0               2             0   \n",
       "2              0                0               2             2   \n",
       "3              1                0               2             0   \n",
       "4              0                1               0             0   \n",
       "\n",
       "   DeviceProtection  TechSupport  StreamingTV  StreamingMovies  Contract  \\\n",
       "0                 0            0            0                0         0   \n",
       "1                 2            0            0                0         1   \n",
       "2                 0            0            0                0         0   \n",
       "3                 2            2            0                0         1   \n",
       "4                 0            0            0                0         0   \n",
       "\n",
       "   PaperlessBilling  PaymentMethod  MonthlyCharges  TotalCharges  Churn  \n",
       "0                 1              2           29.85         29.85      0  \n",
       "1                 0              3           56.95       1889.50      0  \n",
       "2                 1              3           53.85        108.15      1  \n",
       "3                 0              0           42.30       1840.75      0  \n",
       "4                 1              2           70.70        151.65      1  "
      ]
     },
     "execution_count": 39,
     "metadata": {},
     "output_type": "execute_result"
    }
   ],
   "source": [
    "df1.head()"
   ]
  },
  {
   "cell_type": "markdown",
   "metadata": {},
   "source": [
    "all categorical type fields are converted to numerical dtypes. Now the data is good to feed into the model"
   ]
  },
  {
   "cell_type": "markdown",
   "metadata": {},
   "source": [
    "# Exploratory data analysis"
   ]
  },
  {
   "cell_type": "code",
   "execution_count": 40,
   "metadata": {},
   "outputs": [],
   "source": [
    "df2=df1[['gender','Churn']]"
   ]
  },
  {
   "cell_type": "code",
   "execution_count": 41,
   "metadata": {},
   "outputs": [
    {
     "data": {
      "text/html": [
       "<div>\n",
       "<style scoped>\n",
       "    .dataframe tbody tr th:only-of-type {\n",
       "        vertical-align: middle;\n",
       "    }\n",
       "\n",
       "    .dataframe tbody tr th {\n",
       "        vertical-align: top;\n",
       "    }\n",
       "\n",
       "    .dataframe thead th {\n",
       "        text-align: right;\n",
       "    }\n",
       "</style>\n",
       "<table border=\"1\" class=\"dataframe\">\n",
       "  <thead>\n",
       "    <tr style=\"text-align: right;\">\n",
       "      <th></th>\n",
       "      <th>gender</th>\n",
       "      <th>Churn</th>\n",
       "    </tr>\n",
       "  </thead>\n",
       "  <tbody>\n",
       "    <tr>\n",
       "      <th>gender</th>\n",
       "      <td>1.000000</td>\n",
       "      <td>-0.008545</td>\n",
       "    </tr>\n",
       "    <tr>\n",
       "      <th>Churn</th>\n",
       "      <td>-0.008545</td>\n",
       "      <td>1.000000</td>\n",
       "    </tr>\n",
       "  </tbody>\n",
       "</table>\n",
       "</div>"
      ],
      "text/plain": [
       "          gender     Churn\n",
       "gender  1.000000 -0.008545\n",
       "Churn  -0.008545  1.000000"
      ]
     },
     "execution_count": 41,
     "metadata": {},
     "output_type": "execute_result"
    }
   ],
   "source": [
    "df2.corr()"
   ]
  },
  {
   "cell_type": "code",
   "execution_count": 42,
   "metadata": {},
   "outputs": [],
   "source": [
    "#there is not much of a strength of correlation between Gender and churn."
   ]
  },
  {
   "cell_type": "code",
   "execution_count": 43,
   "metadata": {},
   "outputs": [
    {
     "data": {
      "text/html": [
       "<div>\n",
       "<style scoped>\n",
       "    .dataframe tbody tr th:only-of-type {\n",
       "        vertical-align: middle;\n",
       "    }\n",
       "\n",
       "    .dataframe tbody tr th {\n",
       "        vertical-align: top;\n",
       "    }\n",
       "\n",
       "    .dataframe thead th {\n",
       "        text-align: right;\n",
       "    }\n",
       "</style>\n",
       "<table border=\"1\" class=\"dataframe\">\n",
       "  <thead>\n",
       "    <tr style=\"text-align: right;\">\n",
       "      <th></th>\n",
       "      <th>gender</th>\n",
       "      <th>SeniorCitizen</th>\n",
       "      <th>Partner</th>\n",
       "      <th>Dependents</th>\n",
       "      <th>tenure</th>\n",
       "      <th>PhoneService</th>\n",
       "      <th>MultipleLines</th>\n",
       "      <th>InternetService</th>\n",
       "      <th>OnlineSecurity</th>\n",
       "      <th>OnlineBackup</th>\n",
       "      <th>DeviceProtection</th>\n",
       "      <th>TechSupport</th>\n",
       "      <th>StreamingTV</th>\n",
       "      <th>StreamingMovies</th>\n",
       "      <th>Contract</th>\n",
       "      <th>PaperlessBilling</th>\n",
       "      <th>PaymentMethod</th>\n",
       "      <th>MonthlyCharges</th>\n",
       "      <th>TotalCharges</th>\n",
       "      <th>Churn</th>\n",
       "    </tr>\n",
       "  </thead>\n",
       "  <tbody>\n",
       "    <tr>\n",
       "      <th>gender</th>\n",
       "      <td>1.000000</td>\n",
       "      <td>-0.001819</td>\n",
       "      <td>-0.001379</td>\n",
       "      <td>0.010349</td>\n",
       "      <td>0.005285</td>\n",
       "      <td>-0.007515</td>\n",
       "      <td>-0.006908</td>\n",
       "      <td>-0.002236</td>\n",
       "      <td>-0.014899</td>\n",
       "      <td>-0.011920</td>\n",
       "      <td>0.001348</td>\n",
       "      <td>-0.006695</td>\n",
       "      <td>-0.005624</td>\n",
       "      <td>-0.008920</td>\n",
       "      <td>0.000095</td>\n",
       "      <td>-0.011902</td>\n",
       "      <td>0.016942</td>\n",
       "      <td>-0.013779</td>\n",
       "      <td>0.000048</td>\n",
       "      <td>-0.008545</td>\n",
       "    </tr>\n",
       "    <tr>\n",
       "      <th>SeniorCitizen</th>\n",
       "      <td>-0.001819</td>\n",
       "      <td>1.000000</td>\n",
       "      <td>0.016957</td>\n",
       "      <td>-0.210550</td>\n",
       "      <td>0.015683</td>\n",
       "      <td>0.008392</td>\n",
       "      <td>0.146287</td>\n",
       "      <td>-0.032160</td>\n",
       "      <td>-0.127937</td>\n",
       "      <td>-0.013355</td>\n",
       "      <td>-0.021124</td>\n",
       "      <td>-0.151007</td>\n",
       "      <td>0.031019</td>\n",
       "      <td>0.047088</td>\n",
       "      <td>-0.141820</td>\n",
       "      <td>0.156258</td>\n",
       "      <td>-0.038158</td>\n",
       "      <td>0.219874</td>\n",
       "      <td>0.102411</td>\n",
       "      <td>0.150541</td>\n",
       "    </tr>\n",
       "    <tr>\n",
       "      <th>Partner</th>\n",
       "      <td>-0.001379</td>\n",
       "      <td>0.016957</td>\n",
       "      <td>1.000000</td>\n",
       "      <td>0.452269</td>\n",
       "      <td>0.381912</td>\n",
       "      <td>0.018397</td>\n",
       "      <td>0.142717</td>\n",
       "      <td>0.000513</td>\n",
       "      <td>0.150610</td>\n",
       "      <td>0.153045</td>\n",
       "      <td>0.165614</td>\n",
       "      <td>0.126488</td>\n",
       "      <td>0.136679</td>\n",
       "      <td>0.129907</td>\n",
       "      <td>0.294094</td>\n",
       "      <td>-0.013957</td>\n",
       "      <td>-0.156232</td>\n",
       "      <td>0.097825</td>\n",
       "      <td>0.319072</td>\n",
       "      <td>-0.149982</td>\n",
       "    </tr>\n",
       "    <tr>\n",
       "      <th>Dependents</th>\n",
       "      <td>0.010349</td>\n",
       "      <td>-0.210550</td>\n",
       "      <td>0.452269</td>\n",
       "      <td>1.000000</td>\n",
       "      <td>0.163386</td>\n",
       "      <td>-0.001078</td>\n",
       "      <td>-0.024975</td>\n",
       "      <td>0.044030</td>\n",
       "      <td>0.151198</td>\n",
       "      <td>0.090231</td>\n",
       "      <td>0.079723</td>\n",
       "      <td>0.132530</td>\n",
       "      <td>0.046214</td>\n",
       "      <td>0.022088</td>\n",
       "      <td>0.240556</td>\n",
       "      <td>-0.110131</td>\n",
       "      <td>-0.041989</td>\n",
       "      <td>-0.112343</td>\n",
       "      <td>0.064653</td>\n",
       "      <td>-0.163128</td>\n",
       "    </tr>\n",
       "    <tr>\n",
       "      <th>tenure</th>\n",
       "      <td>0.005285</td>\n",
       "      <td>0.015683</td>\n",
       "      <td>0.381912</td>\n",
       "      <td>0.163386</td>\n",
       "      <td>1.000000</td>\n",
       "      <td>0.007877</td>\n",
       "      <td>0.343673</td>\n",
       "      <td>-0.029835</td>\n",
       "      <td>0.327283</td>\n",
       "      <td>0.372434</td>\n",
       "      <td>0.372669</td>\n",
       "      <td>0.324729</td>\n",
       "      <td>0.290572</td>\n",
       "      <td>0.296785</td>\n",
       "      <td>0.676734</td>\n",
       "      <td>0.004823</td>\n",
       "      <td>-0.370087</td>\n",
       "      <td>0.246862</td>\n",
       "      <td>0.825880</td>\n",
       "      <td>-0.354049</td>\n",
       "    </tr>\n",
       "    <tr>\n",
       "      <th>PhoneService</th>\n",
       "      <td>-0.007515</td>\n",
       "      <td>0.008392</td>\n",
       "      <td>0.018397</td>\n",
       "      <td>-0.001078</td>\n",
       "      <td>0.007877</td>\n",
       "      <td>1.000000</td>\n",
       "      <td>-0.020504</td>\n",
       "      <td>0.387266</td>\n",
       "      <td>-0.014163</td>\n",
       "      <td>0.024040</td>\n",
       "      <td>0.004718</td>\n",
       "      <td>-0.018136</td>\n",
       "      <td>0.056393</td>\n",
       "      <td>0.043025</td>\n",
       "      <td>0.003019</td>\n",
       "      <td>0.016696</td>\n",
       "      <td>-0.005499</td>\n",
       "      <td>0.248033</td>\n",
       "      <td>0.113008</td>\n",
       "      <td>0.011691</td>\n",
       "    </tr>\n",
       "    <tr>\n",
       "      <th>MultipleLines</th>\n",
       "      <td>-0.006908</td>\n",
       "      <td>0.146287</td>\n",
       "      <td>0.142717</td>\n",
       "      <td>-0.024975</td>\n",
       "      <td>0.343673</td>\n",
       "      <td>-0.020504</td>\n",
       "      <td>1.000000</td>\n",
       "      <td>-0.108849</td>\n",
       "      <td>0.007306</td>\n",
       "      <td>0.117276</td>\n",
       "      <td>0.122614</td>\n",
       "      <td>0.010941</td>\n",
       "      <td>0.175403</td>\n",
       "      <td>0.181705</td>\n",
       "      <td>0.111029</td>\n",
       "      <td>0.165306</td>\n",
       "      <td>-0.176598</td>\n",
       "      <td>0.433905</td>\n",
       "      <td>0.453202</td>\n",
       "      <td>0.038043</td>\n",
       "    </tr>\n",
       "    <tr>\n",
       "      <th>InternetService</th>\n",
       "      <td>-0.002236</td>\n",
       "      <td>-0.032160</td>\n",
       "      <td>0.000513</td>\n",
       "      <td>0.044030</td>\n",
       "      <td>-0.029835</td>\n",
       "      <td>0.387266</td>\n",
       "      <td>-0.108849</td>\n",
       "      <td>1.000000</td>\n",
       "      <td>-0.028003</td>\n",
       "      <td>0.036735</td>\n",
       "      <td>0.045558</td>\n",
       "      <td>-0.025626</td>\n",
       "      <td>0.108190</td>\n",
       "      <td>0.097967</td>\n",
       "      <td>0.099579</td>\n",
       "      <td>-0.138166</td>\n",
       "      <td>0.084504</td>\n",
       "      <td>-0.322173</td>\n",
       "      <td>-0.175691</td>\n",
       "      <td>-0.047097</td>\n",
       "    </tr>\n",
       "    <tr>\n",
       "      <th>OnlineSecurity</th>\n",
       "      <td>-0.014899</td>\n",
       "      <td>-0.127937</td>\n",
       "      <td>0.150610</td>\n",
       "      <td>0.151198</td>\n",
       "      <td>0.327283</td>\n",
       "      <td>-0.014163</td>\n",
       "      <td>0.007306</td>\n",
       "      <td>-0.028003</td>\n",
       "      <td>1.000000</td>\n",
       "      <td>0.184942</td>\n",
       "      <td>0.175789</td>\n",
       "      <td>0.284875</td>\n",
       "      <td>0.044399</td>\n",
       "      <td>0.056313</td>\n",
       "      <td>0.373980</td>\n",
       "      <td>-0.157723</td>\n",
       "      <td>-0.096593</td>\n",
       "      <td>-0.053576</td>\n",
       "      <td>0.254473</td>\n",
       "      <td>-0.289050</td>\n",
       "    </tr>\n",
       "    <tr>\n",
       "      <th>OnlineBackup</th>\n",
       "      <td>-0.011920</td>\n",
       "      <td>-0.013355</td>\n",
       "      <td>0.153045</td>\n",
       "      <td>0.090231</td>\n",
       "      <td>0.372434</td>\n",
       "      <td>0.024040</td>\n",
       "      <td>0.117276</td>\n",
       "      <td>0.036735</td>\n",
       "      <td>0.184942</td>\n",
       "      <td>1.000000</td>\n",
       "      <td>0.187646</td>\n",
       "      <td>0.195581</td>\n",
       "      <td>0.147085</td>\n",
       "      <td>0.137083</td>\n",
       "      <td>0.280617</td>\n",
       "      <td>-0.012697</td>\n",
       "      <td>-0.125534</td>\n",
       "      <td>0.119943</td>\n",
       "      <td>0.375556</td>\n",
       "      <td>-0.195290</td>\n",
       "    </tr>\n",
       "    <tr>\n",
       "      <th>DeviceProtection</th>\n",
       "      <td>0.001348</td>\n",
       "      <td>-0.021124</td>\n",
       "      <td>0.165614</td>\n",
       "      <td>0.079723</td>\n",
       "      <td>0.372669</td>\n",
       "      <td>0.004718</td>\n",
       "      <td>0.122614</td>\n",
       "      <td>0.045558</td>\n",
       "      <td>0.175789</td>\n",
       "      <td>0.187646</td>\n",
       "      <td>1.000000</td>\n",
       "      <td>0.240476</td>\n",
       "      <td>0.275947</td>\n",
       "      <td>0.289309</td>\n",
       "      <td>0.350067</td>\n",
       "      <td>-0.037596</td>\n",
       "      <td>-0.136460</td>\n",
       "      <td>0.163984</td>\n",
       "      <td>0.389066</td>\n",
       "      <td>-0.177883</td>\n",
       "    </tr>\n",
       "    <tr>\n",
       "      <th>TechSupport</th>\n",
       "      <td>-0.006695</td>\n",
       "      <td>-0.151007</td>\n",
       "      <td>0.126488</td>\n",
       "      <td>0.132530</td>\n",
       "      <td>0.324729</td>\n",
       "      <td>-0.018136</td>\n",
       "      <td>0.010941</td>\n",
       "      <td>-0.025626</td>\n",
       "      <td>0.284875</td>\n",
       "      <td>0.195581</td>\n",
       "      <td>0.240476</td>\n",
       "      <td>1.000000</td>\n",
       "      <td>0.161168</td>\n",
       "      <td>0.162530</td>\n",
       "      <td>0.425072</td>\n",
       "      <td>-0.113617</td>\n",
       "      <td>-0.104544</td>\n",
       "      <td>-0.008237</td>\n",
       "      <td>0.276890</td>\n",
       "      <td>-0.282232</td>\n",
       "    </tr>\n",
       "    <tr>\n",
       "      <th>StreamingTV</th>\n",
       "      <td>-0.005624</td>\n",
       "      <td>0.031019</td>\n",
       "      <td>0.136679</td>\n",
       "      <td>0.046214</td>\n",
       "      <td>0.290572</td>\n",
       "      <td>0.056393</td>\n",
       "      <td>0.175403</td>\n",
       "      <td>0.108190</td>\n",
       "      <td>0.044399</td>\n",
       "      <td>0.147085</td>\n",
       "      <td>0.275947</td>\n",
       "      <td>0.161168</td>\n",
       "      <td>1.000000</td>\n",
       "      <td>0.435354</td>\n",
       "      <td>0.226826</td>\n",
       "      <td>0.097379</td>\n",
       "      <td>-0.104782</td>\n",
       "      <td>0.337156</td>\n",
       "      <td>0.392472</td>\n",
       "      <td>-0.036303</td>\n",
       "    </tr>\n",
       "    <tr>\n",
       "      <th>StreamingMovies</th>\n",
       "      <td>-0.008920</td>\n",
       "      <td>0.047088</td>\n",
       "      <td>0.129907</td>\n",
       "      <td>0.022088</td>\n",
       "      <td>0.296785</td>\n",
       "      <td>0.043025</td>\n",
       "      <td>0.181705</td>\n",
       "      <td>0.097967</td>\n",
       "      <td>0.056313</td>\n",
       "      <td>0.137083</td>\n",
       "      <td>0.289309</td>\n",
       "      <td>0.162530</td>\n",
       "      <td>0.435354</td>\n",
       "      <td>1.000000</td>\n",
       "      <td>0.232478</td>\n",
       "      <td>0.083901</td>\n",
       "      <td>-0.112009</td>\n",
       "      <td>0.335761</td>\n",
       "      <td>0.398088</td>\n",
       "      <td>-0.038802</td>\n",
       "    </tr>\n",
       "    <tr>\n",
       "      <th>Contract</th>\n",
       "      <td>0.000095</td>\n",
       "      <td>-0.141820</td>\n",
       "      <td>0.294094</td>\n",
       "      <td>0.240556</td>\n",
       "      <td>0.676734</td>\n",
       "      <td>0.003019</td>\n",
       "      <td>0.111029</td>\n",
       "      <td>0.099579</td>\n",
       "      <td>0.373980</td>\n",
       "      <td>0.280617</td>\n",
       "      <td>0.350067</td>\n",
       "      <td>0.425072</td>\n",
       "      <td>0.226826</td>\n",
       "      <td>0.232478</td>\n",
       "      <td>1.000000</td>\n",
       "      <td>-0.175475</td>\n",
       "      <td>-0.229636</td>\n",
       "      <td>-0.072739</td>\n",
       "      <td>0.450306</td>\n",
       "      <td>-0.396150</td>\n",
       "    </tr>\n",
       "    <tr>\n",
       "      <th>PaperlessBilling</th>\n",
       "      <td>-0.011902</td>\n",
       "      <td>0.156258</td>\n",
       "      <td>-0.013957</td>\n",
       "      <td>-0.110131</td>\n",
       "      <td>0.004823</td>\n",
       "      <td>0.016696</td>\n",
       "      <td>0.165306</td>\n",
       "      <td>-0.138166</td>\n",
       "      <td>-0.157723</td>\n",
       "      <td>-0.012697</td>\n",
       "      <td>-0.037596</td>\n",
       "      <td>-0.113617</td>\n",
       "      <td>0.097379</td>\n",
       "      <td>0.083901</td>\n",
       "      <td>-0.175475</td>\n",
       "      <td>1.000000</td>\n",
       "      <td>-0.061348</td>\n",
       "      <td>0.351930</td>\n",
       "      <td>0.157830</td>\n",
       "      <td>0.191454</td>\n",
       "    </tr>\n",
       "    <tr>\n",
       "      <th>PaymentMethod</th>\n",
       "      <td>0.016942</td>\n",
       "      <td>-0.038158</td>\n",
       "      <td>-0.156232</td>\n",
       "      <td>-0.041989</td>\n",
       "      <td>-0.370087</td>\n",
       "      <td>-0.005499</td>\n",
       "      <td>-0.176598</td>\n",
       "      <td>0.084504</td>\n",
       "      <td>-0.096593</td>\n",
       "      <td>-0.125534</td>\n",
       "      <td>-0.136460</td>\n",
       "      <td>-0.104544</td>\n",
       "      <td>-0.104782</td>\n",
       "      <td>-0.112009</td>\n",
       "      <td>-0.229636</td>\n",
       "      <td>-0.061348</td>\n",
       "      <td>1.000000</td>\n",
       "      <td>-0.192500</td>\n",
       "      <td>-0.330594</td>\n",
       "      <td>0.107852</td>\n",
       "    </tr>\n",
       "    <tr>\n",
       "      <th>MonthlyCharges</th>\n",
       "      <td>-0.013779</td>\n",
       "      <td>0.219874</td>\n",
       "      <td>0.097825</td>\n",
       "      <td>-0.112343</td>\n",
       "      <td>0.246862</td>\n",
       "      <td>0.248033</td>\n",
       "      <td>0.433905</td>\n",
       "      <td>-0.322173</td>\n",
       "      <td>-0.053576</td>\n",
       "      <td>0.119943</td>\n",
       "      <td>0.163984</td>\n",
       "      <td>-0.008237</td>\n",
       "      <td>0.337156</td>\n",
       "      <td>0.335761</td>\n",
       "      <td>-0.072739</td>\n",
       "      <td>0.351930</td>\n",
       "      <td>-0.192500</td>\n",
       "      <td>1.000000</td>\n",
       "      <td>0.651065</td>\n",
       "      <td>0.192858</td>\n",
       "    </tr>\n",
       "    <tr>\n",
       "      <th>TotalCharges</th>\n",
       "      <td>0.000048</td>\n",
       "      <td>0.102411</td>\n",
       "      <td>0.319072</td>\n",
       "      <td>0.064653</td>\n",
       "      <td>0.825880</td>\n",
       "      <td>0.113008</td>\n",
       "      <td>0.453202</td>\n",
       "      <td>-0.175691</td>\n",
       "      <td>0.254473</td>\n",
       "      <td>0.375556</td>\n",
       "      <td>0.389066</td>\n",
       "      <td>0.276890</td>\n",
       "      <td>0.392472</td>\n",
       "      <td>0.398088</td>\n",
       "      <td>0.450306</td>\n",
       "      <td>0.157830</td>\n",
       "      <td>-0.330594</td>\n",
       "      <td>0.651065</td>\n",
       "      <td>1.000000</td>\n",
       "      <td>-0.199484</td>\n",
       "    </tr>\n",
       "    <tr>\n",
       "      <th>Churn</th>\n",
       "      <td>-0.008545</td>\n",
       "      <td>0.150541</td>\n",
       "      <td>-0.149982</td>\n",
       "      <td>-0.163128</td>\n",
       "      <td>-0.354049</td>\n",
       "      <td>0.011691</td>\n",
       "      <td>0.038043</td>\n",
       "      <td>-0.047097</td>\n",
       "      <td>-0.289050</td>\n",
       "      <td>-0.195290</td>\n",
       "      <td>-0.177883</td>\n",
       "      <td>-0.282232</td>\n",
       "      <td>-0.036303</td>\n",
       "      <td>-0.038802</td>\n",
       "      <td>-0.396150</td>\n",
       "      <td>0.191454</td>\n",
       "      <td>0.107852</td>\n",
       "      <td>0.192858</td>\n",
       "      <td>-0.199484</td>\n",
       "      <td>1.000000</td>\n",
       "    </tr>\n",
       "  </tbody>\n",
       "</table>\n",
       "</div>"
      ],
      "text/plain": [
       "                    gender  SeniorCitizen   Partner  Dependents    tenure  \\\n",
       "gender            1.000000      -0.001819 -0.001379    0.010349  0.005285   \n",
       "SeniorCitizen    -0.001819       1.000000  0.016957   -0.210550  0.015683   \n",
       "Partner          -0.001379       0.016957  1.000000    0.452269  0.381912   \n",
       "Dependents        0.010349      -0.210550  0.452269    1.000000  0.163386   \n",
       "tenure            0.005285       0.015683  0.381912    0.163386  1.000000   \n",
       "PhoneService     -0.007515       0.008392  0.018397   -0.001078  0.007877   \n",
       "MultipleLines    -0.006908       0.146287  0.142717   -0.024975  0.343673   \n",
       "InternetService  -0.002236      -0.032160  0.000513    0.044030 -0.029835   \n",
       "OnlineSecurity   -0.014899      -0.127937  0.150610    0.151198  0.327283   \n",
       "OnlineBackup     -0.011920      -0.013355  0.153045    0.090231  0.372434   \n",
       "DeviceProtection  0.001348      -0.021124  0.165614    0.079723  0.372669   \n",
       "TechSupport      -0.006695      -0.151007  0.126488    0.132530  0.324729   \n",
       "StreamingTV      -0.005624       0.031019  0.136679    0.046214  0.290572   \n",
       "StreamingMovies  -0.008920       0.047088  0.129907    0.022088  0.296785   \n",
       "Contract          0.000095      -0.141820  0.294094    0.240556  0.676734   \n",
       "PaperlessBilling -0.011902       0.156258 -0.013957   -0.110131  0.004823   \n",
       "PaymentMethod     0.016942      -0.038158 -0.156232   -0.041989 -0.370087   \n",
       "MonthlyCharges   -0.013779       0.219874  0.097825   -0.112343  0.246862   \n",
       "TotalCharges      0.000048       0.102411  0.319072    0.064653  0.825880   \n",
       "Churn            -0.008545       0.150541 -0.149982   -0.163128 -0.354049   \n",
       "\n",
       "                  PhoneService  MultipleLines  InternetService  \\\n",
       "gender               -0.007515      -0.006908        -0.002236   \n",
       "SeniorCitizen         0.008392       0.146287        -0.032160   \n",
       "Partner               0.018397       0.142717         0.000513   \n",
       "Dependents           -0.001078      -0.024975         0.044030   \n",
       "tenure                0.007877       0.343673        -0.029835   \n",
       "PhoneService          1.000000      -0.020504         0.387266   \n",
       "MultipleLines        -0.020504       1.000000        -0.108849   \n",
       "InternetService       0.387266      -0.108849         1.000000   \n",
       "OnlineSecurity       -0.014163       0.007306        -0.028003   \n",
       "OnlineBackup          0.024040       0.117276         0.036735   \n",
       "DeviceProtection      0.004718       0.122614         0.045558   \n",
       "TechSupport          -0.018136       0.010941        -0.025626   \n",
       "StreamingTV           0.056393       0.175403         0.108190   \n",
       "StreamingMovies       0.043025       0.181705         0.097967   \n",
       "Contract              0.003019       0.111029         0.099579   \n",
       "PaperlessBilling      0.016696       0.165306        -0.138166   \n",
       "PaymentMethod        -0.005499      -0.176598         0.084504   \n",
       "MonthlyCharges        0.248033       0.433905        -0.322173   \n",
       "TotalCharges          0.113008       0.453202        -0.175691   \n",
       "Churn                 0.011691       0.038043        -0.047097   \n",
       "\n",
       "                  OnlineSecurity  OnlineBackup  DeviceProtection  TechSupport  \\\n",
       "gender                 -0.014899     -0.011920          0.001348    -0.006695   \n",
       "SeniorCitizen          -0.127937     -0.013355         -0.021124    -0.151007   \n",
       "Partner                 0.150610      0.153045          0.165614     0.126488   \n",
       "Dependents              0.151198      0.090231          0.079723     0.132530   \n",
       "tenure                  0.327283      0.372434          0.372669     0.324729   \n",
       "PhoneService           -0.014163      0.024040          0.004718    -0.018136   \n",
       "MultipleLines           0.007306      0.117276          0.122614     0.010941   \n",
       "InternetService        -0.028003      0.036735          0.045558    -0.025626   \n",
       "OnlineSecurity          1.000000      0.184942          0.175789     0.284875   \n",
       "OnlineBackup            0.184942      1.000000          0.187646     0.195581   \n",
       "DeviceProtection        0.175789      0.187646          1.000000     0.240476   \n",
       "TechSupport             0.284875      0.195581          0.240476     1.000000   \n",
       "StreamingTV             0.044399      0.147085          0.275947     0.161168   \n",
       "StreamingMovies         0.056313      0.137083          0.289309     0.162530   \n",
       "Contract                0.373980      0.280617          0.350067     0.425072   \n",
       "PaperlessBilling       -0.157723     -0.012697         -0.037596    -0.113617   \n",
       "PaymentMethod          -0.096593     -0.125534         -0.136460    -0.104544   \n",
       "MonthlyCharges         -0.053576      0.119943          0.163984    -0.008237   \n",
       "TotalCharges            0.254473      0.375556          0.389066     0.276890   \n",
       "Churn                  -0.289050     -0.195290         -0.177883    -0.282232   \n",
       "\n",
       "                  StreamingTV  StreamingMovies  Contract  PaperlessBilling  \\\n",
       "gender              -0.005624        -0.008920  0.000095         -0.011902   \n",
       "SeniorCitizen        0.031019         0.047088 -0.141820          0.156258   \n",
       "Partner              0.136679         0.129907  0.294094         -0.013957   \n",
       "Dependents           0.046214         0.022088  0.240556         -0.110131   \n",
       "tenure               0.290572         0.296785  0.676734          0.004823   \n",
       "PhoneService         0.056393         0.043025  0.003019          0.016696   \n",
       "MultipleLines        0.175403         0.181705  0.111029          0.165306   \n",
       "InternetService      0.108190         0.097967  0.099579         -0.138166   \n",
       "OnlineSecurity       0.044399         0.056313  0.373980         -0.157723   \n",
       "OnlineBackup         0.147085         0.137083  0.280617         -0.012697   \n",
       "DeviceProtection     0.275947         0.289309  0.350067         -0.037596   \n",
       "TechSupport          0.161168         0.162530  0.425072         -0.113617   \n",
       "StreamingTV          1.000000         0.435354  0.226826          0.097379   \n",
       "StreamingMovies      0.435354         1.000000  0.232478          0.083901   \n",
       "Contract             0.226826         0.232478  1.000000         -0.175475   \n",
       "PaperlessBilling     0.097379         0.083901 -0.175475          1.000000   \n",
       "PaymentMethod       -0.104782        -0.112009 -0.229636         -0.061348   \n",
       "MonthlyCharges       0.337156         0.335761 -0.072739          0.351930   \n",
       "TotalCharges         0.392472         0.398088  0.450306          0.157830   \n",
       "Churn               -0.036303        -0.038802 -0.396150          0.191454   \n",
       "\n",
       "                  PaymentMethod  MonthlyCharges  TotalCharges     Churn  \n",
       "gender                 0.016942       -0.013779      0.000048 -0.008545  \n",
       "SeniorCitizen         -0.038158        0.219874      0.102411  0.150541  \n",
       "Partner               -0.156232        0.097825      0.319072 -0.149982  \n",
       "Dependents            -0.041989       -0.112343      0.064653 -0.163128  \n",
       "tenure                -0.370087        0.246862      0.825880 -0.354049  \n",
       "PhoneService          -0.005499        0.248033      0.113008  0.011691  \n",
       "MultipleLines         -0.176598        0.433905      0.453202  0.038043  \n",
       "InternetService        0.084504       -0.322173     -0.175691 -0.047097  \n",
       "OnlineSecurity        -0.096593       -0.053576      0.254473 -0.289050  \n",
       "OnlineBackup          -0.125534        0.119943      0.375556 -0.195290  \n",
       "DeviceProtection      -0.136460        0.163984      0.389066 -0.177883  \n",
       "TechSupport           -0.104544       -0.008237      0.276890 -0.282232  \n",
       "StreamingTV           -0.104782        0.337156      0.392472 -0.036303  \n",
       "StreamingMovies       -0.112009        0.335761      0.398088 -0.038802  \n",
       "Contract              -0.229636       -0.072739      0.450306 -0.396150  \n",
       "PaperlessBilling      -0.061348        0.351930      0.157830  0.191454  \n",
       "PaymentMethod          1.000000       -0.192500     -0.330594  0.107852  \n",
       "MonthlyCharges        -0.192500        1.000000      0.651065  0.192858  \n",
       "TotalCharges          -0.330594        0.651065      1.000000 -0.199484  \n",
       "Churn                  0.107852        0.192858     -0.199484  1.000000  "
      ]
     },
     "execution_count": 43,
     "metadata": {},
     "output_type": "execute_result"
    }
   ],
   "source": [
    "df1.corr()"
   ]
  },
  {
   "cell_type": "markdown",
   "metadata": {},
   "source": [
    "tenure and contract are positively correlated and its because your tenure is obviously more if you have a prolonged contract"
   ]
  },
  {
   "cell_type": "markdown",
   "metadata": {},
   "source": [
    "tech support and churn is negatively correlated because less the tech support more the customers leave the company and this might be one of the cases why the customers leave"
   ]
  },
  {
   "cell_type": "markdown",
   "metadata": {},
   "source": [
    "Contract and churn is negatively correlated. \n",
    "Tenure and contract is positively correlated. \n",
    "Churn rate is high for two year contracts(thus more tenure)"
   ]
  },
  {
   "cell_type": "markdown",
   "metadata": {},
   "source": [
    "### 5. Splitting the dataset"
   ]
  },
  {
   "cell_type": "markdown",
   "metadata": {},
   "source": [
    "#### Lets train and test the model for which we need training data and testing data. Lets go ahead and create them"
   ]
  },
  {
   "cell_type": "code",
   "execution_count": 44,
   "metadata": {},
   "outputs": [],
   "source": [
    "# X = independent variables\n",
    "# Y = dependent variables\n",
    "# Ratio = 80:20"
   ]
  },
  {
   "cell_type": "code",
   "execution_count": 45,
   "metadata": {},
   "outputs": [],
   "source": [
    "x=df1.drop(['Churn'], axis=1)\n",
    "y=df1['Churn']"
   ]
  },
  {
   "cell_type": "code",
   "execution_count": 46,
   "metadata": {},
   "outputs": [],
   "source": [
    "# Create Train & Test Data\n",
    "from sklearn.model_selection import train_test_split\n",
    "X_train, X_test, y_train, y_test = train_test_split(x,y, test_size=0.2,random_state=101)"
   ]
  },
  {
   "cell_type": "markdown",
   "metadata": {},
   "source": [
    "# Prediction"
   ]
  },
  {
   "cell_type": "markdown",
   "metadata": {},
   "source": [
    "# Logistic Regression & Model Testing"
   ]
  },
  {
   "cell_type": "markdown",
   "metadata": {},
   "source": [
    "Step 1: import the model\n",
    "\n",
    "Step 2: Create instance\n",
    "\n",
    "Step 3: Train the model using training data and store the results \n",
    "\n",
    "Step 4: predict the test data using model built\n",
    "\n",
    "Step 5: Measure the accuracy using metrics like R^2"
   ]
  },
  {
   "cell_type": "code",
   "execution_count": 50,
   "metadata": {},
   "outputs": [],
   "source": [
    "#import the model\n",
    "from sklearn.linear_model import LogisticRegression\n",
    "#Create instance\n",
    "model = LogisticRegression()\n",
    "#Train the model using training data and store the results \n",
    "result = model.fit(X_train, y_train)"
   ]
  },
  {
   "cell_type": "code",
   "execution_count": 52,
   "metadata": {},
   "outputs": [
    {
     "name": "stdout",
     "output_type": "stream",
     "text": [
      "0.8073916133617626\n"
     ]
    }
   ],
   "source": [
    "#predict the test data using model builtprediction_test = model.predict(X_test)\n",
    "from sklearn import metrics\n",
    "prediction_test = model.predict(X_test)\n",
    "# Print the prediction accuracy\n",
    "print (metrics.accuracy_score(y_test, prediction_test))"
   ]
  },
  {
   "cell_type": "markdown",
   "metadata": {},
   "source": [
    "R^2 is 0.80. It's close to 1, thus the model is pretty good"
   ]
  },
  {
   "cell_type": "markdown",
   "metadata": {},
   "source": [
    "we set the coefficients in our model to zero and look at the weights of each variable inorder to understand which independent variables have the most influence on our predicted outcome"
   ]
  },
  {
   "cell_type": "code",
   "execution_count": 53,
   "metadata": {},
   "outputs": [
    {
     "data": {
      "text/plain": [
       "PaperlessBilling    0.329652\n",
       "SeniorCitizen       0.252194\n",
       "StreamingTV         0.090383\n",
       "MultipleLines       0.083555\n",
       "InternetService     0.075046\n",
       "StreamingMovies     0.073110\n",
       "MonthlyCharges      0.014625\n",
       "TotalCharges        0.000343\n",
       "Partner            -0.021029\n",
       "gender             -0.029557\n",
       "DeviceProtection   -0.047174\n",
       "PaymentMethod      -0.061814\n",
       "tenure             -0.063016\n",
       "OnlineBackup       -0.105339\n",
       "Dependents         -0.201970\n",
       "TechSupport        -0.342652\n",
       "OnlineSecurity     -0.355925\n",
       "PhoneService       -0.399885\n",
       "Contract           -0.737872\n",
       "dtype: float64"
      ]
     },
     "execution_count": 53,
     "metadata": {},
     "output_type": "execute_result"
    }
   ],
   "source": [
    "# To get the weights of all the variables\n",
    "weights = pd.Series(model.coef_[0],\n",
    " index=x.columns.values)\n",
    "weights.sort_values(ascending = False)"
   ]
  },
  {
   "cell_type": "markdown",
   "metadata": {},
   "source": [
    "There is positive and negative values which means the positive value has positive impact on the target variable. In our case, the positive value items increases the chances of the customers to churn"
   ]
  },
  {
   "cell_type": "markdown",
   "metadata": {},
   "source": [
    "## DecisionTree Classifier "
   ]
  },
  {
   "cell_type": "code",
   "execution_count": 55,
   "metadata": {},
   "outputs": [
    {
     "data": {
      "text/plain": [
       "DecisionTreeClassifier()"
      ]
     },
     "execution_count": 55,
     "metadata": {},
     "output_type": "execute_result"
    }
   ],
   "source": [
    "#import the model\n",
    "from sklearn.tree import DecisionTreeClassifier\n",
    "#Create instance\n",
    "dt_model = DecisionTreeClassifier()\n",
    "#Train the model using training data and store the results \n",
    "dt_model.fit(X_train, y_train)"
   ]
  },
  {
   "cell_type": "code",
   "execution_count": 61,
   "metadata": {},
   "outputs": [
    {
     "name": "stdout",
     "output_type": "stream",
     "text": [
      "0.7263681592039801\n"
     ]
    }
   ],
   "source": [
    "#predict the test data using model builtprediction_test = model.predict(X_test)\n",
    "from sklearn import metrics\n",
    "dt_prediction_test = dt_model.predict(X_test)\n",
    "# Print the prediction accuracy\n",
    "print (metrics.accuracy_score(y_test, dt_prediction_test))"
   ]
  },
  {
   "cell_type": "markdown",
   "metadata": {},
   "source": [
    "R^2 is 0.726. It's close to 1, but still the accuracy is less than logistic regression method. Lets try Random forest method and check accuracy"
   ]
  },
  {
   "cell_type": "markdown",
   "metadata": {},
   "source": [
    "## Random forest classifier "
   ]
  },
  {
   "cell_type": "code",
   "execution_count": 64,
   "metadata": {},
   "outputs": [
    {
     "data": {
      "text/plain": [
       "RandomForestClassifier()"
      ]
     },
     "execution_count": 64,
     "metadata": {},
     "output_type": "execute_result"
    }
   ],
   "source": [
    "#import the model\n",
    "from sklearn.ensemble import RandomForestClassifier\n",
    "#Create instance\n",
    "rf_model = RandomForestClassifier(n_estimators=100)\n",
    "#Train the model using training data and store the results \n",
    "rf_model.fit(X_train, y_train)"
   ]
  },
  {
   "cell_type": "code",
   "execution_count": null,
   "metadata": {},
   "outputs": [],
   "source": [
    ".values.ravel()"
   ]
  },
  {
   "cell_type": "code",
   "execution_count": 66,
   "metadata": {},
   "outputs": [
    {
     "name": "stdout",
     "output_type": "stream",
     "text": [
      "0.7910447761194029\n"
     ]
    }
   ],
   "source": [
    "#predict the test data using model builtprediction_test = model.predict(X_test)\n",
    "rf_prediction_test = rf_model.predict(X_test)\n",
    "# Print the prediction accuracy\n",
    "print (metrics.accuracy_score(y_test, rf_prediction_test))"
   ]
  },
  {
   "cell_type": "markdown",
   "metadata": {},
   "source": [
    "R^2 is 0.79. It's close to 1, \n",
    "and its better than decision tree method and the accuracy of Random forrest and logistic regression method are more or less the same."
   ]
  },
  {
   "cell_type": "markdown",
   "metadata": {},
   "source": [
    "As data is impartial, we can review furthur with cross validation and the model can also be improved by understanding the what factors affects the churn a lot."
   ]
  }
 ],
 "metadata": {
  "kernelspec": {
   "display_name": "Python 3",
   "language": "python",
   "name": "python3"
  },
  "language_info": {
   "codemirror_mode": {
    "name": "ipython",
    "version": 3
   },
   "file_extension": ".py",
   "mimetype": "text/x-python",
   "name": "python",
   "nbconvert_exporter": "python",
   "pygments_lexer": "ipython3",
   "version": "3.8.5"
  }
 },
 "nbformat": 4,
 "nbformat_minor": 4
}
